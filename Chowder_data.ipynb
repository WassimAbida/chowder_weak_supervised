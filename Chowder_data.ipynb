{
 "cells": [
  {
   "cell_type": "markdown",
   "id": "5a5b9313-754e-4f8d-b536-4368447dbebd",
   "metadata": {
    "tags": []
   },
   "source": [
    "## Data exploration"
   ]
  },
  {
   "cell_type": "code",
   "execution_count": 1,
   "id": "34bf60ef-d42e-41d2-a6c5-4e5f065979bd",
   "metadata": {
    "tags": []
   },
   "outputs": [
    {
     "name": "stderr",
     "output_type": "stream",
     "text": [
      "/home/ubuntu/miniconda3/envs/resenet/lib/python3.10/site-packages/tqdm/auto.py:21: TqdmWarning: IProgress not found. Please update jupyter and ipywidgets. See https://ipywidgets.readthedocs.io/en/stable/user_install.html\n",
      "  from .autonotebook import tqdm as notebook_tqdm\n"
     ]
    }
   ],
   "source": [
    "from chowder_weak_supervised.dataset.tiles import TilesDataset\n",
    "PATH_TO_TRAIN_DATA = './data/train_output.csv'\n",
    "PATH_TO_TEST_DATA = './data/test_output.csv'"
   ]
  },
  {
   "cell_type": "markdown",
   "id": "398d3ee9-f145-4a11-8d82-8ef415f88c2a",
   "metadata": {},
   "source": [
    "## Check Dataset loader "
   ]
  },
  {
   "cell_type": "code",
   "execution_count": 5,
   "id": "16dc2dd5-e764-488c-8f74-626faa87901b",
   "metadata": {
    "tags": []
   },
   "outputs": [
    {
     "name": "stdout",
     "output_type": "stream",
     "text": [
      "Count tiles in dataset: 120\n"
     ]
    }
   ],
   "source": [
    "test_dataset = TilesDataset(labels_path=PATH_TO_TEST_DATA,\n",
    "                            embeddings_path='./data/test_input/resnet_features/')\n",
    "\n",
    "print(\"Count tiles in dataset:\", len(test_dataset))"
   ]
  },
  {
   "cell_type": "code",
   "execution_count": 3,
   "id": "3557cb71-0b62-4d6a-ad5c-6a4ce719c83d",
   "metadata": {
    "tags": []
   },
   "outputs": [
    {
     "data": {
      "text/html": [
       "<div>\n",
       "<style scoped>\n",
       "    .dataframe tbody tr th:only-of-type {\n",
       "        vertical-align: middle;\n",
       "    }\n",
       "\n",
       "    .dataframe tbody tr th {\n",
       "        vertical-align: top;\n",
       "    }\n",
       "\n",
       "    .dataframe thead th {\n",
       "        text-align: right;\n",
       "    }\n",
       "</style>\n",
       "<table border=\"1\" class=\"dataframe\">\n",
       "  <thead>\n",
       "    <tr style=\"text-align: right;\">\n",
       "      <th></th>\n",
       "      <th>ID</th>\n",
       "      <th>Target</th>\n",
       "      <th>Numeric_ID</th>\n",
       "    </tr>\n",
       "  </thead>\n",
       "  <tbody>\n",
       "    <tr>\n",
       "      <th>0</th>\n",
       "      <td>ID_042</td>\n",
       "      <td>1.0</td>\n",
       "      <td>42</td>\n",
       "    </tr>\n",
       "    <tr>\n",
       "      <th>1</th>\n",
       "      <td>ID_348</td>\n",
       "      <td>1.0</td>\n",
       "      <td>348</td>\n",
       "    </tr>\n",
       "    <tr>\n",
       "      <th>2</th>\n",
       "      <td>ID_354</td>\n",
       "      <td>1.0</td>\n",
       "      <td>354</td>\n",
       "    </tr>\n",
       "    <tr>\n",
       "      <th>3</th>\n",
       "      <td>ID_104</td>\n",
       "      <td>0.0</td>\n",
       "      <td>104</td>\n",
       "    </tr>\n",
       "    <tr>\n",
       "      <th>4</th>\n",
       "      <td>ID_289</td>\n",
       "      <td>1.0</td>\n",
       "      <td>289</td>\n",
       "    </tr>\n",
       "    <tr>\n",
       "      <th>...</th>\n",
       "      <td>...</td>\n",
       "      <td>...</td>\n",
       "      <td>...</td>\n",
       "    </tr>\n",
       "    <tr>\n",
       "      <th>115</th>\n",
       "      <td>ID_071</td>\n",
       "      <td>1.0</td>\n",
       "      <td>71</td>\n",
       "    </tr>\n",
       "    <tr>\n",
       "      <th>116</th>\n",
       "      <td>ID_087</td>\n",
       "      <td>0.0</td>\n",
       "      <td>87</td>\n",
       "    </tr>\n",
       "    <tr>\n",
       "      <th>117</th>\n",
       "      <td>ID_059</td>\n",
       "      <td>0.0</td>\n",
       "      <td>59</td>\n",
       "    </tr>\n",
       "    <tr>\n",
       "      <th>118</th>\n",
       "      <td>ID_303</td>\n",
       "      <td>0.0</td>\n",
       "      <td>303</td>\n",
       "    </tr>\n",
       "    <tr>\n",
       "      <th>119</th>\n",
       "      <td>ID_103</td>\n",
       "      <td>1.0</td>\n",
       "      <td>103</td>\n",
       "    </tr>\n",
       "  </tbody>\n",
       "</table>\n",
       "<p>120 rows × 3 columns</p>\n",
       "</div>"
      ],
      "text/plain": [
       "         ID  Target  Numeric_ID\n",
       "0    ID_042     1.0          42\n",
       "1    ID_348     1.0         348\n",
       "2    ID_354     1.0         354\n",
       "3    ID_104     0.0         104\n",
       "4    ID_289     1.0         289\n",
       "..      ...     ...         ...\n",
       "115  ID_071     1.0          71\n",
       "116  ID_087     0.0          87\n",
       "117  ID_059     0.0          59\n",
       "118  ID_303     0.0         303\n",
       "119  ID_103     1.0         103\n",
       "\n",
       "[120 rows x 3 columns]"
      ]
     },
     "execution_count": 3,
     "metadata": {},
     "output_type": "execute_result"
    }
   ],
   "source": [
    "test_dataset.df_targets"
   ]
  },
  {
   "cell_type": "code",
   "execution_count": 15,
   "id": "dcbd44c7-1c8a-4873-945f-e58c433df17d",
   "metadata": {
    "tags": []
   },
   "outputs": [],
   "source": [
    "tiles_ids = [*test_dataset.embeddings]\n",
    "tile_ID_exp = tiles_ids[0]"
   ]
  },
  {
   "cell_type": "code",
   "execution_count": 21,
   "id": "b3170d70-a15d-4649-9104-dc18b972d90a",
   "metadata": {
    "tags": []
   },
   "outputs": [
    {
     "data": {
      "text/plain": [
       "(1000, 2051)"
      ]
     },
     "execution_count": 21,
     "metadata": {},
     "output_type": "execute_result"
    }
   ],
   "source": [
    "test_dataset.embeddings[tile_ID_exp].shape\n",
    "\n",
    "# (features, labels, zoom_level, tile_x_coords, tile_y_coords, WSI_ID)"
   ]
  }
 ],
 "metadata": {
  "kernelspec": {
   "display_name": "Python 3 (ipykernel)",
   "language": "python",
   "name": "python3"
  },
  "language_info": {
   "codemirror_mode": {
    "name": "ipython",
    "version": 3
   },
   "file_extension": ".py",
   "mimetype": "text/x-python",
   "name": "python",
   "nbconvert_exporter": "python",
   "pygments_lexer": "ipython3",
   "version": "3.10.8"
  }
 },
 "nbformat": 4,
 "nbformat_minor": 5
}
